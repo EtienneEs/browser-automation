{
 "cells": [
  {
   "cell_type": "code",
   "execution_count": 5,
   "metadata": {},
   "outputs": [],
   "source": [
    "from selenium import webdriver\n",
    "from selenium.webdriver.support.ui import Select\n",
    "from selenium.webdriver.common.keys import Keys\n",
    "import os\n",
    "from decouple import config\n",
    "import time\n",
    "# https://selenium-python.readthedocs.io/api.html"
   ]
  },
  {
   "cell_type": "code",
   "execution_count": 6,
   "metadata": {},
   "outputs": [],
   "source": [
    "download_path = os.path.join(os.getcwd(),'downloads')\n",
    "if not os.path.exists(download_path):\n",
    "    os.makedirs(download_path)"
   ]
  },
  {
   "cell_type": "code",
   "execution_count": 7,
   "metadata": {},
   "outputs": [],
   "source": [
    "\n",
    "prefs = {\"download.default_directory\" : download_path}\n",
    "options = webdriver.ChromeOptions() \n",
    "options.add_experimental_option(\"prefs\",prefs)\n",
    "\n",
    "driver = webdriver.Chrome(options=options, executable_path=\"chromedriver.exe\")\n",
    "driver.get(\"https://www.google.com/\")\n",
    "elem = driver.find_element_by_name(\"q\")\n",
    "elem.send_keys(\"Etienne Schmelzer\")\n",
    "elem.send_keys(Keys.RETURN)"
   ]
  },
  {
   "cell_type": "code",
   "execution_count": 8,
   "metadata": {},
   "outputs": [],
   "source": [
    "sf_instance = config('SF')\n"
   ]
  },
  {
   "cell_type": "code",
   "execution_count": 9,
   "metadata": {},
   "outputs": [],
   "source": [
    "driver.get('https://{}.my.salesforce.com'.format(sf_instance))\n",
    "sf_home = \"{}.my.salesforce.com/home/\".format(sf_instance)"
   ]
  },
  {
   "cell_type": "code",
   "execution_count": 10,
   "metadata": {},
   "outputs": [],
   "source": [
    "if not sf_home in driver.current_url:\n",
    "    buttons = driver.find_elements_by_xpath(\"//*[contains(text(), 'Centrify TFS16')]\")\n",
    "    buttons[0].click()\n",
    "    time.sleep(5)\n",
    "    "
   ]
  },
  {
   "cell_type": "code",
   "execution_count": 11,
   "metadata": {},
   "outputs": [],
   "source": [
    "if not sf_home in driver.current_url:\n",
    "    elem = driver.find_element_by_name(\"username\")\n",
    "    elem.send_keys(config('SF_USERNAME'))\n",
    "    elem.send_keys(Keys.RETURN)\n",
    "    time.sleep(2)"
   ]
  },
  {
   "cell_type": "code",
   "execution_count": 12,
   "metadata": {},
   "outputs": [],
   "source": [
    "if not sf_home in driver.current_url:\n",
    "    elem = driver.find_element_by_name(\"answer\")\n",
    "    elem.send_keys(config('PASSWORD'))\n",
    "    time.sleep(2)\n"
   ]
  },
  {
   "cell_type": "code",
   "execution_count": 13,
   "metadata": {},
   "outputs": [],
   "source": [
    "report_id = config('REPORT_ID')\n",
    "driver.get('https://{}.my.salesforce.com/{}'.format(sf_instance, report_id))"
   ]
  },
  {
   "cell_type": "code",
   "execution_count": 14,
   "metadata": {},
   "outputs": [],
   "source": [
    "buttons = driver.find_elements_by_xpath(\"//*[contains(text(), 'Run Report')]  | //*[@value='Run Report']\")\n",
    "buttons[0].click()"
   ]
  },
  {
   "cell_type": "code",
   "execution_count": 15,
   "metadata": {},
   "outputs": [],
   "source": [
    "buttons = driver.find_elements_by_xpath(\"//*[@value='{}']\".format(\"Export Details\"))[0].click()\n",
    "\n",
    "Select(driver.find_element_by_id('xf')).select_by_visible_text(\"Comma Delimited .csv\")\n",
    "button_text = \"Export\"\n",
    "buttons = driver.find_elements_by_xpath(\"//*[@value='{}']\".format(button_text))\n",
    "#buttons = driver.find_elements_by_xpath(\"//*[contains(text(), '{}')]  | //*[@value='{}']\".format(button_text, button_text))\n",
    "buttons[0].click()\n",
    "time.sleep(10)\n",
    "driver.quit()"
   ]
  },
  {
   "cell_type": "code",
   "execution_count": null,
   "metadata": {},
   "outputs": [],
   "source": []
  },
  {
   "cell_type": "code",
   "execution_count": null,
   "metadata": {},
   "outputs": [],
   "source": []
  },
  {
   "cell_type": "code",
   "execution_count": null,
   "metadata": {},
   "outputs": [],
   "source": []
  },
  {
   "cell_type": "code",
   "execution_count": null,
   "metadata": {},
   "outputs": [],
   "source": []
  }
 ],
 "metadata": {
  "kernelspec": {
   "display_name": "Python 3",
   "language": "python",
   "name": "python3"
  },
  "language_info": {
   "codemirror_mode": {
    "name": "ipython",
    "version": 3
   },
   "file_extension": ".py",
   "mimetype": "text/x-python",
   "name": "python",
   "nbconvert_exporter": "python",
   "pygments_lexer": "ipython3",
   "version": "3.7.3"
  }
 },
 "nbformat": 4,
 "nbformat_minor": 2
}
